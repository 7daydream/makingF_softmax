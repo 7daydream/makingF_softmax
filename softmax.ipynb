{
 "cells": [
  {
   "cell_type": "code",
   "execution_count": 4,
   "metadata": {},
   "outputs": [
    {
     "name": "stdout",
     "output_type": "stream",
     "text": [
      "2.3.1\n",
      "1.18.5\n",
      "1.0.5\n"
     ]
    },
    {
     "ename": "NameError",
     "evalue": "name 'py3' is not defined",
     "output_type": "error",
     "traceback": [
      "\u001b[1;31m---------------------------------------------------------------------------\u001b[0m",
      "\u001b[1;31mNameError\u001b[0m                                 Traceback (most recent call last)",
      "\u001b[1;32m<ipython-input-4-e78ca849ef6d>\u001b[0m in \u001b[0;36m<module>\u001b[1;34m\u001b[0m\n\u001b[0;32m      9\u001b[0m \u001b[0mprint\u001b[0m\u001b[1;33m(\u001b[0m\u001b[0mnp\u001b[0m\u001b[1;33m.\u001b[0m\u001b[0m__version__\u001b[0m\u001b[1;33m)\u001b[0m\u001b[1;33m\u001b[0m\u001b[1;33m\u001b[0m\u001b[0m\n\u001b[0;32m     10\u001b[0m \u001b[0mprint\u001b[0m\u001b[1;33m(\u001b[0m\u001b[0mpd\u001b[0m\u001b[1;33m.\u001b[0m\u001b[0m__version__\u001b[0m\u001b[1;33m)\u001b[0m\u001b[1;33m\u001b[0m\u001b[1;33m\u001b[0m\u001b[0m\n\u001b[1;32m---> 11\u001b[1;33m \u001b[0mprint\u001b[0m\u001b[1;33m(\u001b[0m\u001b[0mpy3\u001b[0m\u001b[1;33m.\u001b[0m\u001b[0mversion\u001b[0m\u001b[1;33m)\u001b[0m\u001b[1;33m\u001b[0m\u001b[1;33m\u001b[0m\u001b[0m\n\u001b[0m",
      "\u001b[1;31mNameError\u001b[0m: name 'py3' is not defined"
     ]
    }
   ],
   "source": [
    "%matplotlib inline\n",
    "import seaborn as sns\n",
    "import pandas as pd\n",
    "import numpy as np\n",
    "import tensorflow.compat.v1 as tf\n",
    "tf.disable_v2_behavior()\n",
    "import matplotlib.pyplot as plt\n",
    "print(tf.__version__)\n",
    "print(np.__version__)\n",
    "print(pd.__version__)\n",
    "print(py3.version)"
   ]
  },
  {
   "cell_type": "code",
   "execution_count": 2,
   "metadata": {},
   "outputs": [],
   "source": [
    "from keras.models import Sequential\n",
    "from keras.layers import Dense\n",
    "from keras.optimizers import Adam\n",
    "\n",
    "train = np.loadtxt('train.csv', delimiter=',', dtype=np.float32)\n",
    "test = np.loadtxt('test.csv', delimiter=',', dtype=np.float32)\n",
    "\n",
    "x_train_data = train[:, 0:-5]\n",
    "y_train_data = train[:, -5:]\n",
    "x_test_data = test[:, 0:-5]\n",
    "y_test_data = test[:, -5:]\n"
   ]
  },
  {
   "cell_type": "code",
   "execution_count": 24,
   "metadata": {},
   "outputs": [
    {
     "name": "stdout",
     "output_type": "stream",
     "text": [
      "Model: \"sequential_5\"\n",
      "_________________________________________________________________\n",
      "Layer (type)                 Output Shape              Param #   \n",
      "=================================================================\n",
      "dense_10 (Dense)             (None, 3)                 24        \n",
      "_________________________________________________________________\n",
      "dense_11 (Dense)             (None, 5)                 20        \n",
      "=================================================================\n",
      "Total params: 44\n",
      "Trainable params: 44\n",
      "Non-trainable params: 0\n",
      "_________________________________________________________________\n"
     ]
    }
   ],
   "source": [
    "from keras.models import Sequential\n",
    "from keras.layers import Dense\n",
    "import matplotlib.pyplot as plt\n",
    "from keras import models\n",
    "from keras import layers\n",
    "\n",
    "model = Sequential()\n",
    "\n",
    "model.add(Dense(3, input_shape=(7,), activation='relu'))\n",
    "\n",
    "model.add(Dense(5, activation='softmax'))\n",
    "\n",
    "model.compile(loss='categorical_crossentropy', optimizer='Adam', metrics=['accuracy'])\n",
    "\n",
    "model.summary()"
   ]
  },
  {
   "cell_type": "code",
   "execution_count": 25,
   "metadata": {},
   "outputs": [
    {
     "name": "stdout",
     "output_type": "stream",
     "text": [
      "Train on 945 samples, validate on 405 samples\n",
      "Epoch 1/50\n",
      "945/945 [==============================] - 0s 115us/sample - loss: 1.7100 - acc: 0.2286 - val_loss: 1.7004 - val_acc: 0.2296\n",
      "Epoch 2/50\n",
      "945/945 [==============================] - 0s 40us/sample - loss: 1.6744 - acc: 0.2370 - val_loss: 1.6741 - val_acc: 0.2346\n",
      "Epoch 3/50\n",
      "945/945 [==============================] - 0s 39us/sample - loss: 1.6531 - acc: 0.2360 - val_loss: 1.6537 - val_acc: 0.2395\n",
      "Epoch 4/50\n",
      "945/945 [==============================] - 0s 40us/sample - loss: 1.6362 - acc: 0.2349 - val_loss: 1.6386 - val_acc: 0.2420\n",
      "Epoch 5/50\n",
      "945/945 [==============================] - 0s 39us/sample - loss: 1.6247 - acc: 0.2413 - val_loss: 1.6287 - val_acc: 0.2494\n",
      "Epoch 6/50\n",
      "945/945 [==============================] - 0s 39us/sample - loss: 1.6168 - acc: 0.2550 - val_loss: 1.6219 - val_acc: 0.2494\n",
      "Epoch 7/50\n",
      "945/945 [==============================] - 0s 40us/sample - loss: 1.6099 - acc: 0.2561 - val_loss: 1.6170 - val_acc: 0.2469\n",
      "Epoch 8/50\n",
      "945/945 [==============================] - 0s 39us/sample - loss: 1.6050 - acc: 0.2582 - val_loss: 1.6122 - val_acc: 0.2543\n",
      "Epoch 9/50\n",
      "945/945 [==============================] - 0s 40us/sample - loss: 1.6011 - acc: 0.2561 - val_loss: 1.6091 - val_acc: 0.2568\n",
      "Epoch 10/50\n",
      "945/945 [==============================] - 0s 41us/sample - loss: 1.5980 - acc: 0.2624 - val_loss: 1.6071 - val_acc: 0.2593\n",
      "Epoch 11/50\n",
      "945/945 [==============================] - 0s 40us/sample - loss: 1.5954 - acc: 0.2677 - val_loss: 1.6052 - val_acc: 0.2617\n",
      "Epoch 12/50\n",
      "945/945 [==============================] - 0s 41us/sample - loss: 1.5932 - acc: 0.2667 - val_loss: 1.6027 - val_acc: 0.2593\n",
      "Epoch 13/50\n",
      "945/945 [==============================] - 0s 42us/sample - loss: 1.5911 - acc: 0.2688 - val_loss: 1.6010 - val_acc: 0.2568\n",
      "Epoch 14/50\n",
      "945/945 [==============================] - 0s 40us/sample - loss: 1.5893 - acc: 0.2720 - val_loss: 1.5997 - val_acc: 0.2543\n",
      "Epoch 15/50\n",
      "945/945 [==============================] - 0s 44us/sample - loss: 1.5876 - acc: 0.2720 - val_loss: 1.5985 - val_acc: 0.2543\n",
      "Epoch 16/50\n",
      "945/945 [==============================] - 0s 43us/sample - loss: 1.5864 - acc: 0.2709 - val_loss: 1.5971 - val_acc: 0.2543\n",
      "Epoch 17/50\n",
      "945/945 [==============================] - 0s 38us/sample - loss: 1.5847 - acc: 0.2720 - val_loss: 1.5962 - val_acc: 0.2543\n",
      "Epoch 18/50\n",
      "945/945 [==============================] - 0s 41us/sample - loss: 1.5836 - acc: 0.2698 - val_loss: 1.5952 - val_acc: 0.2543\n",
      "Epoch 19/50\n",
      "945/945 [==============================] - 0s 44us/sample - loss: 1.5825 - acc: 0.2698 - val_loss: 1.5942 - val_acc: 0.2543\n",
      "Epoch 20/50\n",
      "945/945 [==============================] - 0s 44us/sample - loss: 1.5814 - acc: 0.2698 - val_loss: 1.5934 - val_acc: 0.2543\n",
      "Epoch 21/50\n",
      "945/945 [==============================] - 0s 46us/sample - loss: 1.5807 - acc: 0.2688 - val_loss: 1.5926 - val_acc: 0.2543\n",
      "Epoch 22/50\n",
      "945/945 [==============================] - 0s 46us/sample - loss: 1.5798 - acc: 0.2709 - val_loss: 1.5919 - val_acc: 0.2543\n",
      "Epoch 23/50\n",
      "945/945 [==============================] - 0s 51us/sample - loss: 1.5789 - acc: 0.2709 - val_loss: 1.5912 - val_acc: 0.2543\n",
      "Epoch 24/50\n",
      "945/945 [==============================] - 0s 47us/sample - loss: 1.5782 - acc: 0.2709 - val_loss: 1.5904 - val_acc: 0.2543\n",
      "Epoch 25/50\n",
      "945/945 [==============================] - 0s 47us/sample - loss: 1.5774 - acc: 0.2709 - val_loss: 1.5897 - val_acc: 0.2543\n",
      "Epoch 26/50\n",
      "945/945 [==============================] - 0s 50us/sample - loss: 1.5767 - acc: 0.2709 - val_loss: 1.5892 - val_acc: 0.2568\n",
      "Epoch 27/50\n",
      "945/945 [==============================] - 0s 46us/sample - loss: 1.5760 - acc: 0.2709 - val_loss: 1.5884 - val_acc: 0.2568\n",
      "Epoch 28/50\n",
      "945/945 [==============================] - 0s 44us/sample - loss: 1.5754 - acc: 0.2709 - val_loss: 1.5876 - val_acc: 0.2568\n",
      "Epoch 29/50\n",
      "945/945 [==============================] - 0s 39us/sample - loss: 1.5746 - acc: 0.2709 - val_loss: 1.5872 - val_acc: 0.2568\n",
      "Epoch 30/50\n",
      "945/945 [==============================] - 0s 41us/sample - loss: 1.5741 - acc: 0.2709 - val_loss: 1.5865 - val_acc: 0.2568\n",
      "Epoch 31/50\n",
      "945/945 [==============================] - 0s 40us/sample - loss: 1.5734 - acc: 0.2709 - val_loss: 1.5860 - val_acc: 0.2568\n",
      "Epoch 32/50\n",
      "945/945 [==============================] - 0s 40us/sample - loss: 1.5729 - acc: 0.2709 - val_loss: 1.5852 - val_acc: 0.2593\n",
      "Epoch 33/50\n",
      "945/945 [==============================] - 0s 43us/sample - loss: 1.5722 - acc: 0.2709 - val_loss: 1.5849 - val_acc: 0.2568\n",
      "Epoch 34/50\n",
      "945/945 [==============================] - 0s 42us/sample - loss: 1.5714 - acc: 0.2730 - val_loss: 1.5841 - val_acc: 0.2568\n",
      "Epoch 35/50\n",
      "945/945 [==============================] - 0s 41us/sample - loss: 1.5709 - acc: 0.2730 - val_loss: 1.5836 - val_acc: 0.2617\n",
      "Epoch 36/50\n",
      "945/945 [==============================] - 0s 43us/sample - loss: 1.5704 - acc: 0.2751 - val_loss: 1.5826 - val_acc: 0.2617\n",
      "Epoch 37/50\n",
      "945/945 [==============================] - 0s 42us/sample - loss: 1.5697 - acc: 0.2783 - val_loss: 1.5821 - val_acc: 0.2617\n",
      "Epoch 38/50\n",
      "945/945 [==============================] - 0s 40us/sample - loss: 1.5693 - acc: 0.2783 - val_loss: 1.5813 - val_acc: 0.2617\n",
      "Epoch 39/50\n",
      "945/945 [==============================] - 0s 40us/sample - loss: 1.5687 - acc: 0.2815 - val_loss: 1.5806 - val_acc: 0.2642\n",
      "Epoch 40/50\n",
      "945/945 [==============================] - 0s 39us/sample - loss: 1.5681 - acc: 0.2815 - val_loss: 1.5799 - val_acc: 0.2667\n",
      "Epoch 41/50\n",
      "945/945 [==============================] - 0s 37us/sample - loss: 1.5677 - acc: 0.2815 - val_loss: 1.5793 - val_acc: 0.2617\n",
      "Epoch 42/50\n",
      "945/945 [==============================] - 0s 37us/sample - loss: 1.5673 - acc: 0.2815 - val_loss: 1.5787 - val_acc: 0.2617\n",
      "Epoch 43/50\n",
      "945/945 [==============================] - 0s 43us/sample - loss: 1.5666 - acc: 0.2815 - val_loss: 1.5779 - val_acc: 0.2642\n",
      "Epoch 44/50\n",
      "945/945 [==============================] - 0s 42us/sample - loss: 1.5661 - acc: 0.2815 - val_loss: 1.5774 - val_acc: 0.2617\n",
      "Epoch 45/50\n",
      "945/945 [==============================] - 0s 44us/sample - loss: 1.5656 - acc: 0.2804 - val_loss: 1.5765 - val_acc: 0.2642\n",
      "Epoch 46/50\n",
      "945/945 [==============================] - 0s 41us/sample - loss: 1.5650 - acc: 0.2794 - val_loss: 1.5757 - val_acc: 0.2642\n",
      "Epoch 47/50\n",
      "945/945 [==============================] - 0s 39us/sample - loss: 1.5645 - acc: 0.2794 - val_loss: 1.5753 - val_acc: 0.2617\n",
      "Epoch 48/50\n",
      "945/945 [==============================] - 0s 38us/sample - loss: 1.5639 - acc: 0.2804 - val_loss: 1.5744 - val_acc: 0.2617\n",
      "Epoch 49/50\n",
      "945/945 [==============================] - 0s 38us/sample - loss: 1.5633 - acc: 0.2804 - val_loss: 1.5736 - val_acc: 0.2642\n",
      "Epoch 50/50\n",
      "945/945 [==============================] - 0s 35us/sample - loss: 1.5628 - acc: 0.2804 - val_loss: 1.5729 - val_acc: 0.2667\n"
     ]
    }
   ],
   "source": [
    "hist=model.fit(x_train_data, y_train_data, validation_data=(x_test_data, y_test_data), epochs=50)"
   ]
  },
  {
   "cell_type": "code",
   "execution_count": 26,
   "metadata": {},
   "outputs": [
    {
     "name": "stdout",
     "output_type": "stream",
     "text": [
      "Accuracy = 0.27\n"
     ]
    }
   ],
   "source": [
    "loss, accuracy = model.evaluate(x_test_data, y_test_data)\n",
    "print(\"Accuracy = {:.2f}\".format(accuracy))"
   ]
  },
  {
   "cell_type": "code",
   "execution_count": 27,
   "metadata": {},
   "outputs": [
    {
     "data": {
      "image/png": "[encoded data removed]",
      "text/plain": [
       "<Figure size 432x288 with 1 Axes>"
      ]
     },
     "metadata": {
      "needs_background": "light"
     },
     "output_type": "display_data"
    }
   ],
   "source": [
    "acc = hist.history[\"acc\"]\n",
    "val_acc = hist.history[\"val_acc\"]\n",
    "loss = hist.history[\"loss\"]\n",
    "val_loss = hist.history[\"val_loss\"]\n",
    "\n",
    "epochs = range(1, len(acc) + 1)\n",
    "\n",
    "plt.figure()\n",
    "\n",
    "plt.plot(epochs, loss, \"bo\", label = \"learning_loss\")\n",
    "plt.plot(epochs, val_loss, \"b\", label = \"validation_loss\")\n",
    "plt.legend()\n",
    "\n",
    "\n",
    "plt.show()"
   ]
  },
  {
   "cell_type": "code",
   "execution_count": 24,
   "metadata": {},
   "outputs": [
    {
     "name": "stdout",
     "output_type": "stream",
     "text": [
      "              precision    recall  f1-score   support\n",
      "\n",
      "           0       0.47      0.43      0.45       100\n",
      "           1       0.55      0.46      0.50        78\n",
      "           2       0.56      0.60      0.58        62\n",
      "           3       0.58      0.53      0.55        70\n",
      "           4       0.46      0.57      0.51        95\n",
      "\n",
      "    accuracy                           0.51       405\n",
      "   macro avg       0.52      0.52      0.52       405\n",
      "weighted avg       0.51      0.51      0.51       405\n",
      "\n",
      "[[43 12 11  6 28]\n",
      " [12 36  7  8 15]\n",
      " [ 9  1 37  3 12]\n",
      " [13  8  4 37  8]\n",
      " [15  9  7 10 54]]\n"
     ]
    }
   ],
   "source": [
    "import numpy as np\n",
    "from sklearn.metrics import classification_report,confusion_matrix\n",
    "\n",
    "y_pred = model.predict(x_test_data)\n",
    "y_test_class = np.argmax(y_test_data,axis=1)\n",
    "y_pred_class = np.argmax(y_pred,axis=1)\n",
    "\n",
    "print(classification_report(y_test_class,y_pred_class))\n",
    "print(confusion_matrix(y_test_class,y_pred_class))"
   ]
  },
  {
   "cell_type": "code",
   "execution_count": 37,
   "metadata": {},
   "outputs": [
    {
     "name": "stdout",
     "output_type": "stream",
     "text": [
      "[[ 9.  6.  7. ...  9.  4.  8.]\n",
      " [ 0.  6.  7. ...  8.  0.  8.]\n",
      " [ 1.  6. 10. ...  0.  7.  9.]\n",
      " ...\n",
      " [10.  7.  5. ...  9.  4.  6.]\n",
      " [ 0.  3. 10. ...  6.  6.  8.]\n",
      " [ 7.  5.  3. ...  0.  6.  1.]]\n"
     ]
    },
    {
     "data": {
      "text/plain": [
       "2"
      ]
     },
     "execution_count": 37,
     "metadata": {},
     "output_type": "execute_result"
    }
   ],
   "source": [
    "print(x_train_data)\n",
    "np.argmax(model.predict([[10,0,0,10,4,5,1]]))"
   ]
  },
  {
   "cell_type": "code",
   "execution_count": 42,
   "metadata": {},
   "outputs": [],
   "source": [
    "import tensorflow as tf\n",
    "from tensorflow import keras\n",
    "\n",
    "model.save('my_model.h5')\n"
   ]
  }
 ],
 "metadata": {
  "kernelspec": {
   "display_name": "Python 3",
   "language": "python",
   "name": "python3"
  },
  "language_info": {
   "codemirror_mode": {
    "name": "ipython",
    "version": 3
   },
   "file_extension": ".py",
   "mimetype": "text/x-python",
   "name": "python",
   "nbconvert_exporter": "python",
   "pygments_lexer": "ipython3",
   "version": "3.8.3"
  }
 },
 "nbformat": 4,
 "nbformat_minor": 4
}
